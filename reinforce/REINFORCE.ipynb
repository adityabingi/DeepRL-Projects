{
 "cells": [
  {
   "cell_type": "markdown",
   "metadata": {},
   "source": [
    "# REINFORCE\n",
    "\n",
    "---\n",
    "\n",
    "In this notebook, we will train REINFORCE with OpenAI Gym's Cartpole environment."
   ]
  },
  {
   "cell_type": "markdown",
   "metadata": {},
   "source": [
    "### 1. Import the Necessary Packages"
   ]
  },
  {
   "cell_type": "code",
   "execution_count": 1,
   "metadata": {},
   "outputs": [],
   "source": [
    "import gym\n",
    "import numpy as np\n",
    "from collections import deque\n",
    "import matplotlib.pyplot as plt\n",
    "%matplotlib inline\n",
    "\n",
    "import tensorflow as tf\n",
    "tf.random.set_seed(0)"
   ]
  },
  {
   "cell_type": "markdown",
   "metadata": {},
   "source": [
    "### 2. Define the Architecture of the Policy"
   ]
  },
  {
   "cell_type": "code",
   "execution_count": 2,
   "metadata": {},
   "outputs": [
    {
     "name": "stdout",
     "output_type": "stream",
     "text": [
      "observation space: Box(4,)\n",
      "action space: Discrete(2)\n"
     ]
    }
   ],
   "source": [
    "env = gym.make('CartPole-v0')\n",
    "env.seed(0)\n",
    "print('observation space:', env.observation_space)\n",
    "print('action space:', env.action_space)\n",
    "\n",
    "class Network(tf.keras.Model):\n",
    "    def __init__(self, h_size=16, a_size=2):\n",
    "        super(Network, self).__init__()\n",
    "        self.fc1 = tf.keras.layers.Dense(h_size)\n",
    "        self.fc2 = tf.keras.layers.Dense(a_size)\n",
    "    \n",
    "    def call(self, x):\n",
    "        x = tf.nn.relu(self.fc1(x))\n",
    "        x = self.fc2(x)\n",
    "        return x\n",
    "    \n",
    "class Policy:\n",
    "    def __init__(self, s_size=4, h_size=16, a_size=2):\n",
    "        self.network = Network(h_size, a_size)\n",
    "    \n",
    "    @tf.function\n",
    "    def act(self, state):\n",
    "        policy_logits = self.network(state)\n",
    "        sample_action = tf.squeeze(tf.random.categorical(policy_logits, 1), 1)\n",
    "        return sample_action\n",
    "    \n",
    "    def neglogprobs(self, policy_logits, actions):  \n",
    "        return tf.nn.sparse_softmax_cross_entropy_with_logits(labels=actions,logits=policy_logits)\n",
    "    \n",
    "    \n",
    "    \n",
    "    @tf.function(input_signature=[tf.TensorSpec(shape=(None,None), dtype=tf.float32),\n",
    "                                  tf.TensorSpec(shape=None, dtype=tf.int32),\n",
    "                                  tf.TensorSpec(shape=None, dtype=tf.float32)],)\n",
    "    def optimize(self, states, actions, adv):\n",
    "        with tf.GradientTape() as tape:\n",
    "            logits = self.network(states)\n",
    "            neglogprobs = self.neglogprobs(logits, actions)\n",
    "            loss = tf.reduce_sum(neglogprobs * adv)\n",
    "            \n",
    "        grads = tape.gradient(loss, self.network.trainable_variables)\n",
    "        optimizer.apply_gradients(zip(grads, self.network.trainable_variables))"
   ]
  },
  {
   "cell_type": "code",
   "execution_count": 3,
   "metadata": {},
   "outputs": [],
   "source": [
    "def sample_trajectory(env, policy, max_t):\n",
    "    states = []\n",
    "    rewards = []\n",
    "    actions = []\n",
    "    state = env.reset()\n",
    "    for t in range(max_t):\n",
    "        action = policy.act(np.array(state)[None]).numpy()[0]\n",
    "        states.append(state)\n",
    "        actions.append(action)\n",
    "        state, reward, done, _ = env.step(action)\n",
    "        rewards.append(reward)\n",
    "        if done:\n",
    "            break \n",
    "            \n",
    "    return np.array(states, dtype=np.float32), np.array(actions, dtype=np.int32), np.array(rewards, dtype=np.float32)"
   ]
  },
  {
   "cell_type": "markdown",
   "metadata": {},
   "source": [
    "### 3. Train the Agent with REINFORCE"
   ]
  },
  {
   "cell_type": "code",
   "execution_count": 4,
   "metadata": {},
   "outputs": [
    {
     "name": "stdout",
     "output_type": "stream",
     "text": [
      "WARNING:tensorflow:Layer network is casting an input tensor from dtype float64 to the layer's dtype of float32, which is new behavior in TensorFlow 2.  The layer has dtype float32 because it's dtype defaults to floatx.\n",
      "\n",
      "If you intended to run this layer in float32, you can safely ignore this warning. If in doubt, this warning is likely only an issue if you are porting a TensorFlow 1.X model to TensorFlow 2.\n",
      "\n",
      "To change all layers to have dtype float64 by default, call `tf.keras.backend.set_floatx('float64')`. To change just this layer, pass dtype='float64' to the layer constructor. If you are the author of this layer, you can disable autocasting by passing autocast=False to the base Layer constructor.\n",
      "\n",
      "Episode 100\tAverage Score: 37.15\n",
      "Episode 200\tAverage Score: 50.36\n",
      "Episode 300\tAverage Score: 97.90\n",
      "Episode 400\tAverage Score: 135.65\n",
      "Episode 500\tAverage Score: 152.88\n",
      "Environment solved in 459 episodes!\tAverage Score: 195.32\n"
     ]
    }
   ],
   "source": [
    "policy = Policy()\n",
    "optimizer = tf.keras.optimizers.Adam(learning_rate=1e-2)\n",
    "\n",
    "def reinforce(n_episodes=1000, max_t=1000, gamma=1.0, print_every=100):\n",
    "    scores_deque = deque(maxlen=100)\n",
    "    scores = []\n",
    "    for i_episode in range(1, n_episodes+1):\n",
    "        \n",
    "        states, actions, rewards = sample_trajectory(env, policy, max_t)\n",
    "        scores_deque.append(sum(rewards))\n",
    "        scores.append(sum(rewards))\n",
    "        \n",
    "        discounts = [gamma**i for i in range(len(rewards)+1)]\n",
    "        R = (sum([a*b for a,b in zip(discounts, rewards)])).astype(np.float32)\n",
    "        \n",
    "        states = tf.convert_to_tensor(states)\n",
    "        actions = tf.convert_to_tensor(actions)\n",
    "        tot_reward = tf.convert_to_tensor(R)\n",
    "        \n",
    "        policy.optimize(states, actions, tot_reward)\n",
    "        \n",
    "        if i_episode % print_every == 0:\n",
    "            print('Episode {}\\tAverage Score: {:.2f}'.format(i_episode, np.mean(scores_deque)))\n",
    "        if np.mean(scores_deque)>=195.0:\n",
    "            print('Environment solved in {:d} episodes!\\tAverage Score: {:.2f}'.format(i_episode-100, np.mean(scores_deque)))\n",
    "            break\n",
    "        \n",
    "    return scores\n",
    "    \n",
    "scores = reinforce()"
   ]
  },
  {
   "cell_type": "markdown",
   "metadata": {},
   "source": [
    "### 4. Plot the Scores"
   ]
  },
  {
   "cell_type": "code",
   "execution_count": 5,
   "metadata": {},
   "outputs": [
    {
     "data": {
      "image/png": "[encoded data removed]",
      "text/plain": [
       "<Figure size 432x288 with 1 Axes>"
      ]
     },
     "metadata": {
      "needs_background": "light"
     },
     "output_type": "display_data"
    }
   ],
   "source": [
    "fig = plt.figure()\n",
    "ax = fig.add_subplot(111)\n",
    "plt.plot(np.arange(1, len(scores)+1), scores)\n",
    "plt.ylabel('Score')\n",
    "plt.xlabel('Episode #')\n",
    "plt.show()"
   ]
  },
  {
   "cell_type": "markdown",
   "metadata": {},
   "source": [
    "### 5. Watch a Smart Agent!"
   ]
  },
  {
   "cell_type": "code",
   "execution_count": 6,
   "metadata": {},
   "outputs": [],
   "source": [
    "env = gym.make('CartPole-v0')\n",
    "env = gym.wrappers.Monitor(env, 'videos/', force=True)\n",
    "state = env.reset()\n",
    "for t in range(1000):\n",
    "    action = policy.act(np.array(state)[None]).numpy()[0]\n",
    "    #env.render()\n",
    "    state, reward, done, _ = env.step(action)\n",
    "    if done:\n",
    "        break \n",
    "\n",
    "env.close()"
   ]
  }
 ],
 "metadata": {
  "anaconda-cloud": {},
  "kernelspec": {
   "display_name": "TF2",
   "language": "python",
   "name": "tf2"
  },
  "language_info": {
   "codemirror_mode": {
    "name": "ipython",
    "version": 3
   },
   "file_extension": ".py",
   "mimetype": "text/x-python",
   "name": "python",
   "nbconvert_exporter": "python",
   "pygments_lexer": "ipython3",
   "version": "3.7.1"
  }
 },
 "nbformat": 4,
 "nbformat_minor": 2
}
